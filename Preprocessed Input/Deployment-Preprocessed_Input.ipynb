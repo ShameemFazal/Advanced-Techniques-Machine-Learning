{
 "cells": [
  {
   "cell_type": "code",
   "execution_count": 1,
   "id": "2175d358-2342-49bf-9528-df2d43f0fc97",
   "metadata": {},
   "outputs": [],
   "source": [
    "import pickle\n",
    "import pandas as pd"
   ]
  },
  {
   "cell_type": "code",
   "execution_count": 7,
   "id": "f0e98468-3779-43a0-a699-b5a9084beb10",
   "metadata": {},
   "outputs": [
    {
     "name": "stdout",
     "output_type": "stream",
     "text": [
      "\u001b[1mPreprocessing Only input data\u001b[0m\n",
      "\n",
      "\n"
     ]
    },
    {
     "name": "stdin",
     "output_type": "stream",
     "text": [
      "Enter R&D Spend = 1300\n",
      "Enter Administration = 12000\n",
      "Enter Marketing Spend = 4000\n",
      "Enter State_Florida = 0\n",
      "Enter State_New_York = 1\n"
     ]
    },
    {
     "name": "stdout",
     "output_type": "stream",
     "text": [
      "\n",
      "\n",
      "\u001b[1mPredicted Profit value is \u001b[0m [107679.41510409]\n"
     ]
    },
    {
     "name": "stderr",
     "output_type": "stream",
     "text": [
      "C:\\Anaconda\\Lib\\site-packages\\sklearn\\base.py:493: UserWarning: X does not have valid feature names, but StandardScaler was fitted with feature names\n",
      "  warnings.warn(\n"
     ]
    }
   ],
   "source": [
    "from Loading_Preprocessing_Data import loadingPreprocessingFunctions\n",
    "preprocessingBoth = 'No'\n",
    "bold_start = '\\033[1m'\n",
    "bold_end = '\\033[0m'\n",
    "print(bold_start+\"Preprocessing Only input data\"+bold_end)\n",
    "print('\\n')\n",
    "RandD_Spend = int(input(\"Enter R&D Spend =\"))\n",
    "Administration = int(input(\"Enter Administration =\"))\n",
    "Marketing_Spend = int(input(\"Enter Marketing Spend =\"))\n",
    "State_Florida = int(input(\"Enter State_Florida =\"))\n",
    "State_New_York = int(input(\"Enter State_New_York =\"))\n",
    "result=loadingPreprocessingFunctions.loadingandPreprocessing(preprocessingBoth,RandD_Spend,Administration,Marketing_Spend,State_Florida,State_New_York)\n",
    "print('\\n')\n",
    "print(bold_start+\"Predicted Profit value is \"+bold_end,result)"
   ]
  }
 ],
 "metadata": {
  "kernelspec": {
   "display_name": "Python 3 (ipykernel)",
   "language": "python",
   "name": "python3"
  },
  "language_info": {
   "codemirror_mode": {
    "name": "ipython",
    "version": 3
   },
   "file_extension": ".py",
   "mimetype": "text/x-python",
   "name": "python",
   "nbconvert_exporter": "python",
   "pygments_lexer": "ipython3",
   "version": "3.12.7"
  }
 },
 "nbformat": 4,
 "nbformat_minor": 5
}
