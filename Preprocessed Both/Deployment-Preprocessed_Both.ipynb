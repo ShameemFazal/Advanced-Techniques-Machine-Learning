{
 "cells": [
  {
   "cell_type": "code",
   "execution_count": 3,
   "id": "8028edd5-25b8-4686-9001-fb664d903989",
   "metadata": {},
   "outputs": [],
   "source": [
    "import pickle\n",
    "import pandas as pd"
   ]
  },
  {
   "cell_type": "code",
   "execution_count": 5,
   "id": "4d74bd09-a8d7-496a-8293-5ab661939414",
   "metadata": {},
   "outputs": [
    {
     "name": "stderr",
     "output_type": "stream",
     "text": [
      "C:\\Anaconda\\Lib\\site-packages\\sklearn\\base.py:493: UserWarning: X does not have valid feature names, but StandardScaler was fitted with feature names\n",
      "  warnings.warn(\n"
     ]
    }
   ],
   "source": [
    "dataset = pd.read_csv(\"50_Startups.csv\")\n",
    "dataset = pd.get_dummies(dataset,drop_first=True)\n",
    "Independent = dataset[[\"R&D Spend\",\"Administration\",\"Marketing Spend\",\"State_Florida\",\"State_New York\"]]\n",
    "dependent = dataset[[\"Profit\"]]\n",
    "from sklearn.model_selection import train_test_split\n",
    "X_train,X_test,Y_train,Y_test =train_test_split(Independent,dependent,test_size=0.30, random_state=0)\n",
    "from sklearn.preprocessing import StandardScaler\n",
    "sc=StandardScaler()\n",
    "X_train = sc.fit_transform(X_train)\n",
    "X_test = sc.transform(X_test)\n",
    "scy = StandardScaler()\n",
    "Y_train = scy.fit_transform(Y_train)\n",
    "Y_test = scy.transform(Y_test)\n",
    "preprocessed_input = sc.transform([[1300,12000,4000,0,1]])"
   ]
  },
  {
   "cell_type": "code",
   "execution_count": 7,
   "id": "9d90d7db-4dd9-4404-adf8-538868800b60",
   "metadata": {},
   "outputs": [
    {
     "data": {
      "text/plain": [
       "array([[-1.46755405, -4.33835385, -1.50744257, -0.5       ,  1.30088727]])"
      ]
     },
     "execution_count": 7,
     "metadata": {},
     "output_type": "execute_result"
    }
   ],
   "source": [
    "preprocessed_input"
   ]
  },
  {
   "cell_type": "code",
   "execution_count": 9,
   "id": "13f2e757-7549-4eb6-8ff3-e96a26498607",
   "metadata": {},
   "outputs": [],
   "source": [
    "loaded_model = pickle.load(open(\"finalized_model_svr.sav\",'rb'))\n",
    "result = loaded_model.predict(preprocessed_input)"
   ]
  },
  {
   "cell_type": "code",
   "execution_count": 11,
   "id": "f10537d8-3a09-492b-a24b-5ace5b50b08f",
   "metadata": {},
   "outputs": [
    {
     "data": {
      "text/plain": [
       "array([-1.03109284])"
      ]
     },
     "execution_count": 11,
     "metadata": {},
     "output_type": "execute_result"
    }
   ],
   "source": [
    "result"
   ]
  },
  {
   "cell_type": "code",
   "execution_count": 13,
   "id": "acdba137-156f-425d-86b4-4a5537e15106",
   "metadata": {},
   "outputs": [],
   "source": [
    "preprocessed_output = scy.inverse_transform([result])"
   ]
  },
  {
   "cell_type": "code",
   "execution_count": 15,
   "id": "7419788f-66f2-4164-a3fa-c74c508b7cbe",
   "metadata": {},
   "outputs": [
    {
     "data": {
      "text/plain": [
       "array([[65875.16964031]])"
      ]
     },
     "execution_count": 15,
     "metadata": {},
     "output_type": "execute_result"
    }
   ],
   "source": [
    "preprocessed_output"
   ]
  }
 ],
 "metadata": {
  "kernelspec": {
   "display_name": "Python 3 (ipykernel)",
   "language": "python",
   "name": "python3"
  },
  "language_info": {
   "codemirror_mode": {
    "name": "ipython",
    "version": 3
   },
   "file_extension": ".py",
   "mimetype": "text/x-python",
   "name": "python",
   "nbconvert_exporter": "python",
   "pygments_lexer": "ipython3",
   "version": "3.12.7"
  }
 },
 "nbformat": 4,
 "nbformat_minor": 5
}
